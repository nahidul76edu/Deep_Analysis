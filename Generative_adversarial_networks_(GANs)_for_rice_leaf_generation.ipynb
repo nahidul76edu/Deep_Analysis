{
  "cells": [
    {
      "cell_type": "code",
      "execution_count": 130,
      "metadata": {
        "id": "EMerYF42uzrx"
      },
      "outputs": [],
      "source": [
        "import tensorflow as tf\n",
        "import keras\n",
        "from keras.models import Sequential\n",
        "from keras.layers import Conv2D, Flatten, Dropout, Dense, UpSampling2D, Reshape\n",
        "from keras.layers import Conv2DTranspose, Activation, BatchNormalization\n",
        "from keras.layers.advanced_activations import LeakyReLU\n",
        "from tensorflow.keras.optimizers import RMSprop,Adam\n",
        "from keras.datasets import cifar10\n",
        "%matplotlib inline\n",
        "import matplotlib.pylab as plt \n",
        "from tqdm import tnrange\n",
        "import numpy as np\n",
        "from sklearn.preprocessing import OneHotEncoder\n",
        "from tensorflow.keras import layers\n",
        "from tensorflow.keras import activations\n",
        "from glob import glob\n",
        "import numpy as np"
      ]
    },
    {
      "cell_type": "code",
      "execution_count": 131,
      "metadata": {
        "id": "MyKPeM_4vDDA"
      },
      "outputs": [],
      "source": [
        "img_rows = 224\n",
        "img_cols = 224\n",
        "channel = 3\n",
        "classes = 4\n",
        "depth = 64\n",
        "dropout = 0.4"
      ]
    },
    {
      "cell_type": "code",
      "execution_count": 132,
      "metadata": {
        "id": "7SlnPLd4vD3W"
      },
      "outputs": [],
      "source": [
        "input_shape = (img_rows, img_cols, channel)\n",
        "\n",
        "discriminator = Sequential()\n",
        "\n",
        "discriminator.add(Conv2D(depth*1, 5, strides=2, \n",
        "                         input_shape=input_shape,padding='same'))\n",
        "discriminator.add(LeakyReLU(alpha=0.2))\n",
        "discriminator.add(Dropout(dropout))\n",
        "\n",
        "discriminator.add(Conv2D(depth*2, 5, strides=2, padding='same'))\n",
        "discriminator.add(LeakyReLU(alpha=0.2))\n",
        "discriminator.add(Dropout(dropout))\n",
        "\n",
        "discriminator.add(Conv2D(depth*4, 5, strides=2, padding='same'))\n",
        "discriminator.add(LeakyReLU(alpha=0.2))\n",
        "discriminator.add(Dropout(dropout))\n",
        "\n",
        "discriminator.add(Conv2D(depth*8, 5, strides=1, padding='same'))\n",
        "discriminator.add(LeakyReLU(alpha=0.2))\n",
        "discriminator.add(Dropout(dropout))\n",
        "\n",
        "discriminator.add(Flatten())\n",
        "discriminator.add(Dense(classes + 1))\n",
        "discriminator.add(Activation('softmax'))\n",
        "\n",
        "#discriminator.summary()"
      ]
    },
    {
      "cell_type": "code",
      "execution_count": 133,
      "metadata": {
        "id": "tGJmnWjxvD5_"
      },
      "outputs": [],
      "source": [
        "optimizer = tf.keras.optimizers.Adam(learning_rate=0.0001)\n",
        "discriminator_model = Sequential()\n",
        "discriminator_model.add(discriminator)\n",
        "\n",
        "discriminator_model.compile(loss='categorical_crossentropy', \n",
        "                            optimizer=optimizer, \n",
        "                            metrics=['accuracy'])"
      ]
    },
    {
      "cell_type": "code",
      "execution_count": 134,
      "metadata": {
        "id": "s67WvjQ0vD82"
      },
      "outputs": [],
      "source": [
        "dropout = 0.4\n",
        "depth = 64+64+64+64\n",
        "dim = 56"
      ]
    },
    {
      "cell_type": "code",
      "execution_count": 135,
      "metadata": {
        "id": "Qw2d8AO5vEAP"
      },
      "outputs": [],
      "source": [
        "generator = Sequential()\n",
        "\n",
        "generator.add(Dense(dim*dim*depth, input_dim=100 + classes))\n",
        "generator.add(BatchNormalization(momentum=0.9))\n",
        "generator.add(Activation('relu'))\n",
        "generator.add(Reshape((dim, dim, depth)))\n",
        "generator.add(Dropout(dropout))\n",
        "\n",
        "generator.add(UpSampling2D())\n",
        "generator.add(Conv2DTranspose(int(depth/2), 5, padding='same'))\n",
        "generator.add(BatchNormalization(momentum=0.9))\n",
        "generator.add(Activation('relu'))\n",
        "\n",
        "generator.add(UpSampling2D())\n",
        "generator.add(Conv2DTranspose(int(depth/4), 5, padding='same'))\n",
        "generator.add(BatchNormalization(momentum=0.9))\n",
        "generator.add(Activation('relu'))\n",
        "\n",
        "generator.add(Conv2DTranspose(3, 5, padding='same'))\n",
        "generator.add(Activation('sigmoid'))\n",
        "\n",
        "#generator.summary()"
      ]
    },
    {
      "cell_type": "code",
      "execution_count": 136,
      "metadata": {
        "id": "fWk5HeltvEE5"
      },
      "outputs": [],
      "source": [
        "optimizer = tf.keras.optimizers.Adam(learning_rate=0.0001)\n",
        "\n",
        "adversarial_model = Sequential()\n",
        "adversarial_model.add(generator)\n",
        "discriminator.trainable = False\n",
        "adversarial_model.add(discriminator)\n",
        "\n",
        "adversarial_model.compile(loss='categorical_crossentropy', \n",
        "                          optimizer=optimizer,\n",
        "                          metrics=['accuracy'])\n",
        "#adversarial_model.summary() "
      ]
    },
    {
      "cell_type": "code",
      "execution_count": 137,
      "metadata": {
        "id": "cT8IOaWntvuC"
      },
      "outputs": [],
      "source": [
        "import os\n",
        "from PIL import Image\n",
        "import matplotlib.pyplot as plt\n",
        "import glob\n",
        "import numpy as np\n",
        "import cv2"
      ]
    },
    {
      "cell_type": "code",
      "execution_count": 138,
      "metadata": {
        "id": "U99-imsztNOh"
      },
      "outputs": [],
      "source": [
        "Healthy = []\n",
        "for filename in glob.glob('/content/drive/MyDrive/#Rice_dataset#/h_672_672/*.jpg'):\n",
        "  img = Image.open(filename)\n",
        "  img = np.array(img)\n",
        "  image = cv2.resize(img, (224, 224), interpolation= Image.ANTIALIAS) #Image.ANTIALIAS, cv2.INTER_CUBIC\n",
        "  Healthy.append(image)"
      ]
    },
    {
      "cell_type": "code",
      "execution_count": 139,
      "metadata": {
        "id": "aWAtWtNTt0AI"
      },
      "outputs": [],
      "source": [
        "BrownSpot = []\n",
        "for filename in glob.glob('/content/drive/MyDrive/#Rice_dataset#/b_672_672/*.jpg'):\n",
        "  img = Image.open(filename)\n",
        "  img = np.array(img)\n",
        "  image = cv2.resize(img, (224, 224), interpolation= Image.ANTIALIAS) #Image.ANTIALIAS, cv2.INTER_CUBIC\n",
        "  BrownSpot.append(image)"
      ]
    },
    {
      "cell_type": "code",
      "execution_count": 44,
      "metadata": {
        "id": "xkRpQMY0uL-A"
      },
      "outputs": [],
      "source": [
        "Hispa = []\n",
        "for filename in glob.glob('/content/drive/MyDrive/#Rice_dataset#/hispa_672_672/*.jpg'):\n",
        "  img = Image.open(filename)\n",
        "  img = np.array(img)\n",
        "  image = cv2.resize(img, (224, 224), interpolation= Image.ANTIALIAS) #Image.ANTIALIAS, cv2.INTER_CUBIC\n",
        "  Hispa.append(image)"
      ]
    },
    {
      "cell_type": "code",
      "execution_count": 140,
      "metadata": {
        "id": "7mzxEgp_uUKp"
      },
      "outputs": [],
      "source": [
        "LeafBlast = []\n",
        "for filename in glob.glob('/content/drive/MyDrive/#Rice_dataset#/L_672_672/*.jpg'):\n",
        "  img = Image.open(filename)\n",
        "  img = np.array(img)\n",
        "  image = cv2.resize(img, (224, 224), interpolation= Image.ANTIALIAS) #Image.ANTIALIAS, cv2.INTER_CUBIC\n",
        "  LeafBlast.append(image)"
      ]
    },
    {
      "cell_type": "code",
      "execution_count": 141,
      "metadata": {
        "id": "IzYACdH-CXlZ"
      },
      "outputs": [],
      "source": [
        "Healthy_label = []\n",
        "for i in range(len(Healthy)):\n",
        "  Healthy_label.append([0, 0, 0, 1])\n",
        "\n",
        "BrownSpot_label = []\n",
        "for i in range(len(BrownSpot)):\n",
        "  BrownSpot_label.append([0, 0, 1, 0])\n",
        "\n",
        "Hispa_label = []\n",
        "for i in range(len(Hispa)):\n",
        "  Hispa_label.append([0, 1, 0, 0])\n",
        "\n",
        "LeafBlast_label = []\n",
        "for i in range(len(LeafBlast)):\n",
        "  LeafBlast_label.append([1, 0, 0, 0])"
      ]
    },
    {
      "cell_type": "code",
      "source": [
        "x_train = np.concatenate((Healthy, BrownSpot, Hispa, LeafBlast))\n",
        "y_train = np.concatenate((Healthy_label, BrownSpot_label, Hispa_label, LeafBlast_label))"
      ],
      "metadata": {
        "id": "GJ53my_qMYtn"
      },
      "execution_count": 142,
      "outputs": []
    },
    {
      "cell_type": "code",
      "execution_count": 143,
      "metadata": {
        "id": "v0Q12QoUvYsI"
      },
      "outputs": [],
      "source": [
        "def normalize(images):\n",
        "    images=images.astype('float32')\n",
        "    if images.max() > 1.0:\n",
        "        images/=255.0\n",
        "    return images"
      ]
    },
    {
      "cell_type": "code",
      "execution_count": 144,
      "metadata": {
        "id": "-pRyqMo4vYur"
      },
      "outputs": [],
      "source": [
        "def one_hot(labels):\n",
        "    enc = OneHotEncoder()\n",
        "    return enc.fit_transform(y_train).toarray()"
      ]
    },
    {
      "cell_type": "code",
      "source": [
        "x_train = normalize(x_train)\n",
        "#y_train = one_hot(y_train)"
      ],
      "metadata": {
        "id": "wkzVeWMlOK1F"
      },
      "execution_count": 145,
      "outputs": []
    },
    {
      "cell_type": "code",
      "execution_count": 146,
      "metadata": {
        "id": "FgxsJK5OvY44"
      },
      "outputs": [],
      "source": [
        "def create_generator_noise(batch_size):\n",
        "    noise = np.random.uniform(-1.0, 1.0, size=[batch_size, 100])\n",
        "    sampling = np.random.randint(classes, size=batch_size)\n",
        "    noise_labels = np.zeros((batch_size, classes))\n",
        "    noise_labels[np.arange(batch_size), sampling] = 1\n",
        "    noise_input = np.concatenate((noise, noise_labels), axis=1)\n",
        "    \n",
        "    return noise_input, noise_labels"
      ]
    },
    {
      "cell_type": "code",
      "execution_count": 147,
      "metadata": {
        "id": "BtTmFfkzvEH2"
      },
      "outputs": [],
      "source": [
        "def create_generator_noise_by_label(labels):\n",
        "    noise = np.random.uniform(-1.0, 1.0, size=[len(labels), 100])\n",
        "\n",
        "    noise_labels = np.zeros((len(labels), classes))\n",
        "    noise_labels[np.arange(len(labels)), labels] = 1\n",
        "    noise_input = np.concatenate((noise, noise_labels), axis=1)\n",
        "    \n",
        "    return noise_input"
      ]
    },
    {
      "cell_type": "code",
      "execution_count": 148,
      "metadata": {
        "id": "95enRuQbvnrd"
      },
      "outputs": [],
      "source": [
        "def train(batch_size=64, train_steps=150000):\n",
        "    discriminator_losses = []\n",
        "    adversarial_losses = []\n",
        "    sample_images = []\n",
        "    \n",
        "    for i in tnrange(train_steps):\n",
        "        # Select a random sample from the training data and the labels\n",
        "        sample_idx = np.random.randint(0, x_train.shape[0], size=batch_size)\n",
        "        images_train = x_train[sample_idx, :, :, :]\n",
        "        labels_train = y_train[sample_idx]\n",
        "        labels_train = np.concatenate((labels_train, np.zeros(shape=(batch_size, 1))), axis=1)\n",
        "        \n",
        "        # Create noise in range -1 to 1 and random labels as input for the generator to generate the fake images\n",
        "        noise_input, _ = create_generator_noise(batch_size)\n",
        "        images_fake = generator.predict(noise_input)\n",
        "        \n",
        "        # Create input by concatenate both real and fake images and assigning the respective labels\n",
        "        labels_fake = np.zeros(shape=(batch_size, classes+1))\n",
        "        labels_fake[:,-1] = 1\n",
        "        \n",
        "        input_data   = np.concatenate((images_train, images_fake))\n",
        "        input_labels = np.concatenate((labels_train, labels_fake))\n",
        "\n",
        "        discriminator_loss = discriminator_model.train_on_batch(input_data, input_labels)\n",
        "        \n",
        "        # Train the adversarial model to generate better images\n",
        "        noise_input, noise_labels = create_generator_noise(batch_size)\n",
        "        noise_labels = np.concatenate((noise_labels, np.zeros(shape=(batch_size, 1))), axis=1)\n",
        "        \n",
        "        adversarial_loss = adversarial_model.train_on_batch(noise_input, noise_labels)\n",
        "        \n",
        "        discriminator_losses.append(discriminator_loss)\n",
        "        adversarial_losses.append(adversarial_loss)\n",
        "        \n",
        "        if i % 100 == 0:\n",
        "            labels = [1]\n",
        "            noise = create_generator_noise_by_label(labels)\n",
        "            fake_images = generator.predict(noise)\n",
        "            sample_images.append(fake_images[0])\n",
        "    \n",
        "    return discriminator_losses, adversarial_losses, sample_images"
      ]
    },
    {
      "cell_type": "code",
      "execution_count": null,
      "metadata": {
        "colab": {
          "base_uri": "https://localhost:8080/",
          "height": 85,
          "referenced_widgets": [
            "80b8603ccb7c41e687758fc0d545ab99",
            "4dfd188419ca4a6e9f01095884e584ee",
            "d6d14ab76ea44e4a8f91db70bcaa63db",
            "d6190b293c074807bf73fbb028e4e558",
            "0bafe581ac554625a7b5e408de8cdc83",
            "ad7ca35e44454eafad64f52e538e5392",
            "dbde6752783f4a749b8d82144266084d",
            "bcbd2dbf65d5420a8289a16bfe81daec",
            "5d378a5080bb4de1ab9a2383a1047ac2",
            "c95098f79b044f21ba9fcf347db5bfc4",
            "d0594289a2c94fe894bdf07b39763645"
          ]
        },
        "id": "oiChztQuvnuM",
        "outputId": "e78ceca9-aa4d-494a-e865-a8ac944bbc0c"
      },
      "outputs": [
        {
          "output_type": "stream",
          "name": "stderr",
          "text": [
            "/usr/local/lib/python3.7/dist-packages/ipykernel_launcher.py:6: TqdmDeprecationWarning: Please use `tqdm.notebook.trange` instead of `tqdm.tnrange`\n",
            "  \n"
          ]
        },
        {
          "output_type": "display_data",
          "data": {
            "application/vnd.jupyter.widget-view+json": {
              "model_id": "80b8603ccb7c41e687758fc0d545ab99",
              "version_minor": 0,
              "version_major": 2
            },
            "text/plain": [
              "  0%|          | 0/150000 [00:00<?, ?it/s]"
            ]
          },
          "metadata": {}
        }
      ],
      "source": [
        "discriminator_losses, adversarial_losses, sample_images  = train(train_steps=150000)"
      ]
    },
    {
      "cell_type": "code",
      "execution_count": 66,
      "metadata": {
        "colab": {
          "base_uri": "https://localhost:8080/",
          "height": 16
        },
        "id": "p4PINCfYvnxM",
        "outputId": "a1481e07-95d8-4ce9-af27-2b04ae0a1939"
      },
      "outputs": [
        {
          "output_type": "display_data",
          "data": {
            "application/javascript": [
              "IPython.OutputArea.prototype._should_scroll = function(lines) {\n",
              "    return false;\n",
              "}"
            ],
            "text/plain": [
              "<IPython.core.display.Javascript object>"
            ]
          },
          "metadata": {}
        }
      ],
      "source": [
        "%%javascript\n",
        "IPython.OutputArea.prototype._should_scroll = function(lines) {\n",
        "    return false;\n",
        "}"
      ]
    },
    {
      "cell_type": "code",
      "execution_count": 67,
      "metadata": {
        "id": "1G2Vv7Vzvvgl",
        "colab": {
          "base_uri": "https://localhost:8080/",
          "height": 137
        },
        "outputId": "14b636d8-0d07-4a6b-a154-c11b514f3c1c"
      },
      "outputs": [
        {
          "output_type": "display_data",
          "data": {
            "image/png": "[encoded data removed]",
            "text/plain": [
              "<Figure size 1440x2880 with 5 Axes>"
            ]
          },
          "metadata": {
            "needs_background": "light"
          }
        }
      ],
      "source": [
        "plt.figure(figsize=(20,40))\n",
        "for i, fake_image in enumerate(sample_images, 0):\n",
        "    plt.subplot(20, 10, i+1)\n",
        "    plt.imshow(np.reshape(fake_image, (img_cols, img_rows, channel)))\n",
        "    plt.title(\"Iteration %d\" % (i * 100))\n",
        "    plt.axis('off')"
      ]
    },
    {
      "cell_type": "code",
      "execution_count": null,
      "metadata": {
        "id": "6V7fFQu9vvje"
      },
      "outputs": [],
      "source": [
        "plt.figure(figsize=(20,10))\n",
        "\n",
        "plt.subplot(2,2,1)\n",
        "plt.plot(np.array(discriminator_losses)[:, 0])\n",
        "plt.title(\"Discriminator Losses\")\n",
        "\n",
        "plt.subplot(2,2,2)\n",
        "plt.plot(np.array(discriminator_losses)[:, 1])\n",
        "plt.title(\"Discriminator Accuracy\")\n",
        "\n",
        "plt.subplot(2,2,3)\n",
        "plt.plot(np.array(adversarial_losses)[:, 0], color='darkorange')\n",
        "plt.title(\"Adveserial Losses\")\n",
        "\n",
        "plt.subplot(2,2,4)\n",
        "plt.plot(np.array(adversarial_losses)[:, 1], color='darkorange')\n",
        "plt.title(\"Adveserial Accuracy\")"
      ]
    },
    {
      "cell_type": "code",
      "execution_count": 69,
      "metadata": {
        "id": "I4JwtiRbvn0C"
      },
      "outputs": [],
      "source": [
        "label_names = [\"Healthy\", \"BrownSpot\", \"Hispa\", \"LeafBlast\"]"
      ]
    },
    {
      "cell_type": "code",
      "source": [
        "'''\n",
        "from matplotlib import pyplot\n",
        "\n",
        "if label_names[0] == 'Healthy':\n",
        "  plt.savefig()\n",
        "\n",
        "pyplot.savefig(location_img + str(count)+\".jpg\")\n",
        "re_size=224\n",
        "image = cv2.imread(location_img + str(count)+\".jpg\")\n",
        "image = cv2.resize(image, (re_size,re_size), interpolation=cv2.INTER_CUBIC)\n",
        "\n",
        "train = []\n",
        "j=0\n",
        "k=0\n",
        "\n",
        "for i in range(len(data)):\n",
        "  single= data.iloc[i,1:64]\n",
        "  if i<740:\n",
        "    j+=1\n",
        "    train.append(cwt_function(single,1,\"/content/drive/My Drive/cwt_image/class1_test_left/\",j))\n",
        "  else:\n",
        "    k+=1\n",
        "    train.append(cwt_function(single,2,\"/content/drive/My Drive/cwt_image/class2_test_right/\",k))\n",
        "np.save(\"test_Aep.npy\",train)\n",
        "'''"
      ],
      "metadata": {
        "id": "5CA22wFRFr7J"
      },
      "execution_count": null,
      "outputs": []
    },
    {
      "cell_type": "code",
      "execution_count": 109,
      "metadata": {
        "id": "IFAzjuPhv22t"
      },
      "outputs": [],
      "source": [
        "def sample_labels(size):\n",
        "    labels = []\n",
        "    for label, _ in enumerate(label_names):\n",
        "        for sample_size in range(size):\n",
        "            labels.append(label)\n",
        "    return labels"
      ]
    },
    {
      "cell_type": "code",
      "source": [
        "fig, big_axes = plt.subplots(figsize=(20, 20) , nrows=len(label_names), ncols=1, sharey=True) \n",
        "\n",
        "for row, big_ax in enumerate(big_axes, start=1):\n",
        "    big_ax.set_title(label_names[row-1], fontsize=16)\n",
        "    big_ax.tick_params(labelcolor=(1.,1.,1., 0.0), top='off', bottom='off', left='off', right='off')\n",
        "    # removes the white frame\n",
        "    big_ax._frameon = False\n",
        "\n",
        "labels = sample_labels(10)\n",
        "\n",
        "###########################################################\n",
        "healthy = []\n",
        "j = 0\n",
        "for i in range(len(labels)):\n",
        "  if labels[i] == 0:\n",
        "    j+=1\n",
        "    noise = create_generator_noise_by_label(labels)\n",
        "    fake_images = generator.predict(noise)\n",
        "    healthy.append(fake_images[j])\n",
        "\n",
        "np.save(\"fake_healthy_images.npy\", healthy)\n",
        "\n",
        "############################################################\n",
        "BrownSpot = []\n",
        "j = 0\n",
        "for i in range(len(labels)):\n",
        "  if labels[i] == 1:\n",
        "    j+=1\n",
        "    noise = create_generator_noise_by_label(labels)\n",
        "    fake_images = generator.predict(noise)\n",
        "    BrownSpot.append(fake_images[j])\n",
        "\n",
        "np.save(\"fake_BrownSpot_images.npy\", BrownSpot)\n",
        "\n",
        "###########################################################\n",
        "Hispa = []\n",
        "j=0\n",
        "for i in range(len(labels)):\n",
        "  if labels[i] == 2:\n",
        "    j+=1\n",
        "    noise = create_generator_noise_by_label(labels)\n",
        "    fake_images = generator.predict(noise)\n",
        "    Hispa.append(fake_images[j])\n",
        "\n",
        "np.save(\"fake_Hispa_images.npy\", Hispa)\n",
        "\n",
        "###########################################################\n",
        "LeafBlast = []\n",
        "j=0\n",
        "for i in range(len(labels)):\n",
        "  if labels[i] == 3:\n",
        "    j+=1\n",
        "    noise = create_generator_noise_by_label(labels)\n",
        "    fake_images = generator.predict(noise)\n",
        "    LeafBlast.append(fake_images[j])\n",
        "\n",
        "np.save(\"fake_LeafBlast_images.npy\", LeafBlast)"
      ],
      "metadata": {
        "id": "oWmewqUyY6w8"
      },
      "execution_count": null,
      "outputs": []
    },
    {
      "cell_type": "code",
      "source": [
        ""
      ],
      "metadata": {
        "id": "T-T43PI1b_bq"
      },
      "execution_count": null,
      "outputs": []
    },
    {
      "cell_type": "code",
      "source": [
        "plt.figure(figsize=(40,40))\n",
        "for i, fake_image in enumerate(fake_images, 1):\n",
        "    ax = fig.add_subplot(len(label_names), 100, i)\n",
        "    ax.imshow(np.reshape(fake_image, (img_cols, img_rows, channel)), cmap='gray')\n",
        "    ax.axis('off')"
      ],
      "metadata": {
        "colab": {
          "base_uri": "https://localhost:8080/",
          "height": 92
        },
        "id": "WMXORFazQ8nr",
        "outputId": "5aa134e6-cdad-4a4b-a15d-43c2b99df38d"
      },
      "execution_count": 100,
      "outputs": [
        {
          "output_type": "stream",
          "name": "stderr",
          "text": [
            "/usr/local/lib/python3.7/dist-packages/ipykernel_launcher.py:3: MatplotlibDeprecationWarning: Adding an axes using the same arguments as a previous axes currently reuses the earlier instance.  In a future version, a new instance will always be created and returned.  Meanwhile, this warning can be suppressed, and the future behavior ensured, by passing a unique label to each axes instance.\n",
            "  This is separate from the ipykernel package so we can avoid doing imports until\n"
          ]
        },
        {
          "output_type": "display_data",
          "data": {
            "text/plain": [
              "<Figure size 2880x2880 with 0 Axes>"
            ]
          },
          "metadata": {}
        }
      ]
    }
  ],
  "metadata": {
    "accelerator": "GPU",
    "colab": {
      "collapsed_sections": [],
      "name": "Generative adversarial networks (GANs) for rice leaf generation.ipynb",
      "provenance": []
    },
    "kernelspec": {
      "display_name": "Python 3",
      "name": "python3"
    },
    "widgets": {
      "application/vnd.jupyter.widget-state+json": {
        "80b8603ccb7c41e687758fc0d545ab99": {
          "model_module": "@jupyter-widgets/controls",
          "model_name": "HBoxModel",
          "model_module_version": "1.5.0",
          "state": {
            "_view_name": "HBoxView",
            "_dom_classes": [],
            "_model_name": "HBoxModel",
            "_view_module": "@jupyter-widgets/controls",
            "_model_module_version": "1.5.0",
            "_view_count": null,
            "_view_module_version": "1.5.0",
            "box_style": "",
            "layout": "IPY_MODEL_4dfd188419ca4a6e9f01095884e584ee",
            "_model_module": "@jupyter-widgets/controls",
            "children": [
              "IPY_MODEL_d6d14ab76ea44e4a8f91db70bcaa63db",
              "IPY_MODEL_d6190b293c074807bf73fbb028e4e558",
              "IPY_MODEL_0bafe581ac554625a7b5e408de8cdc83"
            ]
          }
        },
        "4dfd188419ca4a6e9f01095884e584ee": {
          "model_module": "@jupyter-widgets/base",
          "model_name": "LayoutModel",
          "model_module_version": "1.2.0",
          "state": {
            "_view_name": "LayoutView",
            "grid_template_rows": null,
            "right": null,
            "justify_content": null,
            "_view_module": "@jupyter-widgets/base",
            "overflow": null,
            "_model_module_version": "1.2.0",
            "_view_count": null,
            "flex_flow": null,
            "width": null,
            "min_width": null,
            "border": null,
            "align_items": null,
            "bottom": null,
            "_model_module": "@jupyter-widgets/base",
            "top": null,
            "grid_column": null,
            "overflow_y": null,
            "overflow_x": null,
            "grid_auto_flow": null,
            "grid_area": null,
            "grid_template_columns": null,
            "flex": null,
            "_model_name": "LayoutModel",
            "justify_items": null,
            "grid_row": null,
            "max_height": null,
            "align_content": null,
            "visibility": null,
            "align_self": null,
            "height": null,
            "min_height": null,
            "padding": null,
            "grid_auto_rows": null,
            "grid_gap": null,
            "max_width": null,
            "order": null,
            "_view_module_version": "1.2.0",
            "grid_template_areas": null,
            "object_position": null,
            "object_fit": null,
            "grid_auto_columns": null,
            "margin": null,
            "display": null,
            "left": null
          }
        },
        "d6d14ab76ea44e4a8f91db70bcaa63db": {
          "model_module": "@jupyter-widgets/controls",
          "model_name": "HTMLModel",
          "model_module_version": "1.5.0",
          "state": {
            "_view_name": "HTMLView",
            "style": "IPY_MODEL_ad7ca35e44454eafad64f52e538e5392",
            "_dom_classes": [],
            "description": "",
            "_model_name": "HTMLModel",
            "placeholder": "​",
            "_view_module": "@jupyter-widgets/controls",
            "_model_module_version": "1.5.0",
            "value": "  0%",
            "_view_count": null,
            "_view_module_version": "1.5.0",
            "description_tooltip": null,
            "_model_module": "@jupyter-widgets/controls",
            "layout": "IPY_MODEL_dbde6752783f4a749b8d82144266084d"
          }
        },
        "d6190b293c074807bf73fbb028e4e558": {
          "model_module": "@jupyter-widgets/controls",
          "model_name": "FloatProgressModel",
          "model_module_version": "1.5.0",
          "state": {
            "_view_name": "ProgressView",
            "style": "IPY_MODEL_bcbd2dbf65d5420a8289a16bfe81daec",
            "_dom_classes": [],
            "description": "",
            "_model_name": "FloatProgressModel",
            "bar_style": "",
            "max": 150000,
            "_view_module": "@jupyter-widgets/controls",
            "_model_module_version": "1.5.0",
            "value": 37,
            "_view_count": null,
            "_view_module_version": "1.5.0",
            "orientation": "horizontal",
            "min": 0,
            "description_tooltip": null,
            "_model_module": "@jupyter-widgets/controls",
            "layout": "IPY_MODEL_5d378a5080bb4de1ab9a2383a1047ac2"
          }
        },
        "0bafe581ac554625a7b5e408de8cdc83": {
          "model_module": "@jupyter-widgets/controls",
          "model_name": "HTMLModel",
          "model_module_version": "1.5.0",
          "state": {
            "_view_name": "HTMLView",
            "style": "IPY_MODEL_c95098f79b044f21ba9fcf347db5bfc4",
            "_dom_classes": [],
            "description": "",
            "_model_name": "HTMLModel",
            "placeholder": "​",
            "_view_module": "@jupyter-widgets/controls",
            "_model_module_version": "1.5.0",
            "value": " 37/150000 [01:20&lt;87:47:48,  2.11s/it]",
            "_view_count": null,
            "_view_module_version": "1.5.0",
            "description_tooltip": null,
            "_model_module": "@jupyter-widgets/controls",
            "layout": "IPY_MODEL_d0594289a2c94fe894bdf07b39763645"
          }
        },
        "ad7ca35e44454eafad64f52e538e5392": {
          "model_module": "@jupyter-widgets/controls",
          "model_name": "DescriptionStyleModel",
          "model_module_version": "1.5.0",
          "state": {
            "_view_name": "StyleView",
            "_model_name": "DescriptionStyleModel",
            "description_width": "",
            "_view_module": "@jupyter-widgets/base",
            "_model_module_version": "1.5.0",
            "_view_count": null,
            "_view_module_version": "1.2.0",
            "_model_module": "@jupyter-widgets/controls"
          }
        },
        "dbde6752783f4a749b8d82144266084d": {
          "model_module": "@jupyter-widgets/base",
          "model_name": "LayoutModel",
          "model_module_version": "1.2.0",
          "state": {
            "_view_name": "LayoutView",
            "grid_template_rows": null,
            "right": null,
            "justify_content": null,
            "_view_module": "@jupyter-widgets/base",
            "overflow": null,
            "_model_module_version": "1.2.0",
            "_view_count": null,
            "flex_flow": null,
            "width": null,
            "min_width": null,
            "border": null,
            "align_items": null,
            "bottom": null,
            "_model_module": "@jupyter-widgets/base",
            "top": null,
            "grid_column": null,
            "overflow_y": null,
            "overflow_x": null,
            "grid_auto_flow": null,
            "grid_area": null,
            "grid_template_columns": null,
            "flex": null,
            "_model_name": "LayoutModel",
            "justify_items": null,
            "grid_row": null,
            "max_height": null,
            "align_content": null,
            "visibility": null,
            "align_self": null,
            "height": null,
            "min_height": null,
            "padding": null,
            "grid_auto_rows": null,
            "grid_gap": null,
            "max_width": null,
            "order": null,
            "_view_module_version": "1.2.0",
            "grid_template_areas": null,
            "object_position": null,
            "object_fit": null,
            "grid_auto_columns": null,
            "margin": null,
            "display": null,
            "left": null
          }
        },
        "bcbd2dbf65d5420a8289a16bfe81daec": {
          "model_module": "@jupyter-widgets/controls",
          "model_name": "ProgressStyleModel",
          "model_module_version": "1.5.0",
          "state": {
            "_view_name": "StyleView",
            "_model_name": "ProgressStyleModel",
            "description_width": "",
            "_view_module": "@jupyter-widgets/base",
            "_model_module_version": "1.5.0",
            "_view_count": null,
            "_view_module_version": "1.2.0",
            "bar_color": null,
            "_model_module": "@jupyter-widgets/controls"
          }
        },
        "5d378a5080bb4de1ab9a2383a1047ac2": {
          "model_module": "@jupyter-widgets/base",
          "model_name": "LayoutModel",
          "model_module_version": "1.2.0",
          "state": {
            "_view_name": "LayoutView",
            "grid_template_rows": null,
            "right": null,
            "justify_content": null,
            "_view_module": "@jupyter-widgets/base",
            "overflow": null,
            "_model_module_version": "1.2.0",
            "_view_count": null,
            "flex_flow": null,
            "width": null,
            "min_width": null,
            "border": null,
            "align_items": null,
            "bottom": null,
            "_model_module": "@jupyter-widgets/base",
            "top": null,
            "grid_column": null,
            "overflow_y": null,
            "overflow_x": null,
            "grid_auto_flow": null,
            "grid_area": null,
            "grid_template_columns": null,
            "flex": null,
            "_model_name": "LayoutModel",
            "justify_items": null,
            "grid_row": null,
            "max_height": null,
            "align_content": null,
            "visibility": null,
            "align_self": null,
            "height": null,
            "min_height": null,
            "padding": null,
            "grid_auto_rows": null,
            "grid_gap": null,
            "max_width": null,
            "order": null,
            "_view_module_version": "1.2.0",
            "grid_template_areas": null,
            "object_position": null,
            "object_fit": null,
            "grid_auto_columns": null,
            "margin": null,
            "display": null,
            "left": null
          }
        },
        "c95098f79b044f21ba9fcf347db5bfc4": {
          "model_module": "@jupyter-widgets/controls",
          "model_name": "DescriptionStyleModel",
          "model_module_version": "1.5.0",
          "state": {
            "_view_name": "StyleView",
            "_model_name": "DescriptionStyleModel",
            "description_width": "",
            "_view_module": "@jupyter-widgets/base",
            "_model_module_version": "1.5.0",
            "_view_count": null,
            "_view_module_version": "1.2.0",
            "_model_module": "@jupyter-widgets/controls"
          }
        },
        "d0594289a2c94fe894bdf07b39763645": {
          "model_module": "@jupyter-widgets/base",
          "model_name": "LayoutModel",
          "model_module_version": "1.2.0",
          "state": {
            "_view_name": "LayoutView",
            "grid_template_rows": null,
            "right": null,
            "justify_content": null,
            "_view_module": "@jupyter-widgets/base",
            "overflow": null,
            "_model_module_version": "1.2.0",
            "_view_count": null,
            "flex_flow": null,
            "width": null,
            "min_width": null,
            "border": null,
            "align_items": null,
            "bottom": null,
            "_model_module": "@jupyter-widgets/base",
            "top": null,
            "grid_column": null,
            "overflow_y": null,
            "overflow_x": null,
            "grid_auto_flow": null,
            "grid_area": null,
            "grid_template_columns": null,
            "flex": null,
            "_model_name": "LayoutModel",
            "justify_items": null,
            "grid_row": null,
            "max_height": null,
            "align_content": null,
            "visibility": null,
            "align_self": null,
            "height": null,
            "min_height": null,
            "padding": null,
            "grid_auto_rows": null,
            "grid_gap": null,
            "max_width": null,
            "order": null,
            "_view_module_version": "1.2.0",
            "grid_template_areas": null,
            "object_position": null,
            "object_fit": null,
            "grid_auto_columns": null,
            "margin": null,
            "display": null,
            "left": null
          }
        }
      }
    }
  },
  "nbformat": 4,
  "nbformat_minor": 0
}