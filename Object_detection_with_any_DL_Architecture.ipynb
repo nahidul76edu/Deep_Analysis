#https://github.com/zubairsamo/Object-Detection-With-Tensorflow-Using-VGG16
{
  "nbformat": 4,
  "nbformat_minor": 0,
  "metadata": {
    "colab": {
      "name": "Object_detection with any DL Architecture.ipynb",
      "provenance": [],
      "collapsed_sections": []
    },
    "kernelspec": {
      "name": "python3",
      "display_name": "Python 3"
    },
    "language_info": {
      "name": "python"
    },
    "accelerator": "GPU"
  },
  "cells": [
    {
      "cell_type": "code",
      "execution_count": 1,
      "metadata": {
        "id": "n1kSTQXpvIWE"
      },
      "outputs": [],
      "source": [
        "import os\n",
        "base_path=\"/content/drive/MyDrive/aroplane\"\n",
        "images=os.path.sep.join([base_path,'images'])\n",
        "annotations=os.path.sep.join([base_path,'airplanes.csv'])"
      ]
    },
    {
      "cell_type": "code",
      "source": [
        "# Lets Load Dataset\n",
        "# airplanes annotation is a Csv file thats why we can see through with rows\n",
        "\n",
        "rows= open(annotations).read().strip().split(\"\\n\")\n",
        "\n",
        "# lets make three list where we save our exact bounding boxes\n",
        "data=[]\n",
        "targets=[]\n",
        "filenames=[]"
      ],
      "metadata": {
        "id": "ToWsrFZxwje1"
      },
      "execution_count": 2,
      "outputs": []
    },
    {
      "cell_type": "code",
      "source": [
        "# After load we have to split dataset according to images\n",
        "# import some usefull libraries\n",
        "import cv2\n",
        "from tensorflow.keras.preprocessing.image import load_img\n",
        "# we also save images into array format so import img_array library too\n",
        "from tensorflow.keras.preprocessing.image import img_to_array\n",
        "for row in rows:\n",
        "  row=row.split(\",\")\n",
        "  # we always create rectangle with h+w so we have to know where exactly we should start from\n",
        "  (filename,startX,startY,endX,endY)=row\n",
        "\n",
        "  imagepaths=os.path.sep.join([images,filename])\n",
        "  image=cv2.imread(imagepaths)\n",
        "  (h,w)=image.shape[:2]\n",
        "\n",
        "  # initializing starting point\n",
        "  # Why we take in float because when we convert into array so then will trouble happen\n",
        "  startX = float(startX) / w\n",
        "  startY = float(startY) / h\n",
        "  # Also initialize ending point \n",
        "  endX = float(endX) / w\n",
        "  endY = float(endY) / h\n",
        "  #load image and give them default size\n",
        "  image=load_img(imagepaths,target_size=(224,224))\n",
        "  # see here if we cant take it into float then we face trouble \n",
        "  image=img_to_array(image)\n",
        "\n",
        "  # Lets append into data , targets ,filenames\n",
        "  targets.append((startX,startY,endX,endY))\n",
        "  filenames.append(filename)\n",
        "  data.append(image)"
      ],
      "metadata": {
        "id": "78OvQbL-2B2W"
      },
      "execution_count": 3,
      "outputs": []
    },
    {
      "cell_type": "code",
      "source": [
        "# Normalizing Data here also we face would face issues if we take input as integer\n",
        "import numpy as np\n",
        "data=np.array(data,dtype='float32') / 255.0\n",
        "targets=np.array(targets,dtype='float32')"
      ],
      "metadata": {
        "id": "u6VJAZph2B5w"
      },
      "execution_count": 7,
      "outputs": []
    },
    {
      "cell_type": "code",
      "source": [
        "# we should seperate data into train and split so import sklearn library \n",
        "from sklearn.model_selection import train_test_split"
      ],
      "metadata": {
        "id": "-OqOA9se2CAL"
      },
      "execution_count": 8,
      "outputs": []
    },
    {
      "cell_type": "code",
      "source": [
        "# split into testing and training\n",
        "split=train_test_split(data,targets,filenames,test_size=0.10,random_state=42)"
      ],
      "metadata": {
        "id": "hRnwrA7E2CDh"
      },
      "execution_count": 9,
      "outputs": []
    },
    {
      "cell_type": "code",
      "source": [
        "# lets split into steps\n",
        "(train_images,test_images) = split[:2]\n",
        "(train_targets,test_targets) = split[2:4]\n",
        "(train_filenames,test_filenames) = split[4:]"
      ],
      "metadata": {
        "id": "YBUHVV3n2CGn"
      },
      "execution_count": 10,
      "outputs": []
    },
    {
      "cell_type": "code",
      "source": [
        "# lets import pre trained VGG16 Which is already Builtin for computer vision\n",
        "from tensorflow.keras.applications import VGG16\n",
        "from tensorflow.keras.layers import Input"
      ],
      "metadata": {
        "id": "0rG210Pf2O--"
      },
      "execution_count": 11,
      "outputs": []
    },
    {
      "cell_type": "code",
      "source": [
        "# Imagenet is a competition every year held and VGG16 is winner of between  2013-14\n",
        "# so here we just want limited layers so thats why we false included_top \n",
        "vgg=VGG16(weights='imagenet',include_top=False,input_tensor=Input(shape=(224,224,3)))"
      ],
      "metadata": {
        "colab": {
          "base_uri": "https://localhost:8080/"
        },
        "id": "4FFJd2Ua2PBi",
        "outputId": "72effb75-5b32-4355-e162-d4c02165d716"
      },
      "execution_count": 12,
      "outputs": [
        {
          "output_type": "stream",
          "name": "stdout",
          "text": [
            "Downloading data from https://storage.googleapis.com/tensorflow/keras-applications/vgg16/vgg16_weights_tf_dim_ordering_tf_kernels_notop.h5\n",
            "58892288/58889256 [==============================] - 0s 0us/step\n",
            "58900480/58889256 [==============================] - 0s 0us/step\n"
          ]
        }
      ]
    },
    {
      "cell_type": "code",
      "source": [
        "vgg.summary()"
      ],
      "metadata": {
        "colab": {
          "base_uri": "https://localhost:8080/"
        },
        "id": "bTY3HB2k2PEh",
        "outputId": "c552bca5-5c1e-4799-a367-c9db8257c033"
      },
      "execution_count": 13,
      "outputs": [
        {
          "output_type": "stream",
          "name": "stdout",
          "text": [
            "Model: \"vgg16\"\n",
            "_________________________________________________________________\n",
            " Layer (type)                Output Shape              Param #   \n",
            "=================================================================\n",
            " input_1 (InputLayer)        [(None, 224, 224, 3)]     0         \n",
            "                                                                 \n",
            " block1_conv1 (Conv2D)       (None, 224, 224, 64)      1792      \n",
            "                                                                 \n",
            " block1_conv2 (Conv2D)       (None, 224, 224, 64)      36928     \n",
            "                                                                 \n",
            " block1_pool (MaxPooling2D)  (None, 112, 112, 64)      0         \n",
            "                                                                 \n",
            " block2_conv1 (Conv2D)       (None, 112, 112, 128)     73856     \n",
            "                                                                 \n",
            " block2_conv2 (Conv2D)       (None, 112, 112, 128)     147584    \n",
            "                                                                 \n",
            " block2_pool (MaxPooling2D)  (None, 56, 56, 128)       0         \n",
            "                                                                 \n",
            " block3_conv1 (Conv2D)       (None, 56, 56, 256)       295168    \n",
            "                                                                 \n",
            " block3_conv2 (Conv2D)       (None, 56, 56, 256)       590080    \n",
            "                                                                 \n",
            " block3_conv3 (Conv2D)       (None, 56, 56, 256)       590080    \n",
            "                                                                 \n",
            " block3_pool (MaxPooling2D)  (None, 28, 28, 256)       0         \n",
            "                                                                 \n",
            " block4_conv1 (Conv2D)       (None, 28, 28, 512)       1180160   \n",
            "                                                                 \n",
            " block4_conv2 (Conv2D)       (None, 28, 28, 512)       2359808   \n",
            "                                                                 \n",
            " block4_conv3 (Conv2D)       (None, 28, 28, 512)       2359808   \n",
            "                                                                 \n",
            " block4_pool (MaxPooling2D)  (None, 14, 14, 512)       0         \n",
            "                                                                 \n",
            " block5_conv1 (Conv2D)       (None, 14, 14, 512)       2359808   \n",
            "                                                                 \n",
            " block5_conv2 (Conv2D)       (None, 14, 14, 512)       2359808   \n",
            "                                                                 \n",
            " block5_conv3 (Conv2D)       (None, 14, 14, 512)       2359808   \n",
            "                                                                 \n",
            " block5_pool (MaxPooling2D)  (None, 7, 7, 512)         0         \n",
            "                                                                 \n",
            "=================================================================\n",
            "Total params: 14,714,688\n",
            "Trainable params: 14,714,688\n",
            "Non-trainable params: 0\n",
            "_________________________________________________________________\n"
          ]
        }
      ]
    },
    {
      "cell_type": "code",
      "source": [
        "from tensorflow.keras.layers import Input,Flatten,Dense"
      ],
      "metadata": {
        "id": "rcQYaIh02W98"
      },
      "execution_count": 14,
      "outputs": []
    },
    {
      "cell_type": "code",
      "source": [
        "# we use VGG16 as per our requirement not use whole \n",
        "vgg.trainable = False\n",
        "\n",
        "flatten = vgg.output\n",
        "\n",
        "flatten = Flatten()(flatten)"
      ],
      "metadata": {
        "id": "UQzwYEJ22XAr"
      },
      "execution_count": 15,
      "outputs": []
    },
    {
      "cell_type": "code",
      "source": [
        "# Lets make bboxhead\n",
        "bboxhead = Dense(128,activation=\"relu\")(flatten)\n",
        "bboxhead = Dense(64,activation=\"relu\")(bboxhead)\n",
        "bboxhead = Dense(32,activation=\"relu\")(bboxhead)\n",
        "bboxhead = Dense(4,activation=\"relu\")(bboxhead)"
      ],
      "metadata": {
        "id": "eUT1l0O62XEX"
      },
      "execution_count": 16,
      "outputs": []
    },
    {
      "cell_type": "code",
      "source": [
        "# lets import Model\n",
        "from tensorflow.keras.models import Model\n",
        "model = Model(inputs = vgg.input,outputs = bboxhead)"
      ],
      "metadata": {
        "id": "tAdxBf-P2XGg"
      },
      "execution_count": 17,
      "outputs": []
    },
    {
      "cell_type": "code",
      "source": [
        "model.summary()"
      ],
      "metadata": {
        "colab": {
          "base_uri": "https://localhost:8080/"
        },
        "id": "sA4s8hTR2dje",
        "outputId": "524219cb-7ada-4079-a7a5-35687025a2af"
      },
      "execution_count": 18,
      "outputs": [
        {
          "output_type": "stream",
          "name": "stdout",
          "text": [
            "Model: \"model\"\n",
            "_________________________________________________________________\n",
            " Layer (type)                Output Shape              Param #   \n",
            "=================================================================\n",
            " input_1 (InputLayer)        [(None, 224, 224, 3)]     0         \n",
            "                                                                 \n",
            " block1_conv1 (Conv2D)       (None, 224, 224, 64)      1792      \n",
            "                                                                 \n",
            " block1_conv2 (Conv2D)       (None, 224, 224, 64)      36928     \n",
            "                                                                 \n",
            " block1_pool (MaxPooling2D)  (None, 112, 112, 64)      0         \n",
            "                                                                 \n",
            " block2_conv1 (Conv2D)       (None, 112, 112, 128)     73856     \n",
            "                                                                 \n",
            " block2_conv2 (Conv2D)       (None, 112, 112, 128)     147584    \n",
            "                                                                 \n",
            " block2_pool (MaxPooling2D)  (None, 56, 56, 128)       0         \n",
            "                                                                 \n",
            " block3_conv1 (Conv2D)       (None, 56, 56, 256)       295168    \n",
            "                                                                 \n",
            " block3_conv2 (Conv2D)       (None, 56, 56, 256)       590080    \n",
            "                                                                 \n",
            " block3_conv3 (Conv2D)       (None, 56, 56, 256)       590080    \n",
            "                                                                 \n",
            " block3_pool (MaxPooling2D)  (None, 28, 28, 256)       0         \n",
            "                                                                 \n",
            " block4_conv1 (Conv2D)       (None, 28, 28, 512)       1180160   \n",
            "                                                                 \n",
            " block4_conv2 (Conv2D)       (None, 28, 28, 512)       2359808   \n",
            "                                                                 \n",
            " block4_conv3 (Conv2D)       (None, 28, 28, 512)       2359808   \n",
            "                                                                 \n",
            " block4_pool (MaxPooling2D)  (None, 14, 14, 512)       0         \n",
            "                                                                 \n",
            " block5_conv1 (Conv2D)       (None, 14, 14, 512)       2359808   \n",
            "                                                                 \n",
            " block5_conv2 (Conv2D)       (None, 14, 14, 512)       2359808   \n",
            "                                                                 \n",
            " block5_conv3 (Conv2D)       (None, 14, 14, 512)       2359808   \n",
            "                                                                 \n",
            " block5_pool (MaxPooling2D)  (None, 7, 7, 512)         0         \n",
            "                                                                 \n",
            " flatten (Flatten)           (None, 25088)             0         \n",
            "                                                                 \n",
            " dense (Dense)               (None, 128)               3211392   \n",
            "                                                                 \n",
            " dense_1 (Dense)             (None, 64)                8256      \n",
            "                                                                 \n",
            " dense_2 (Dense)             (None, 32)                2080      \n",
            "                                                                 \n",
            " dense_3 (Dense)             (None, 4)                 132       \n",
            "                                                                 \n",
            "=================================================================\n",
            "Total params: 17,936,548\n",
            "Trainable params: 3,221,860\n",
            "Non-trainable params: 14,714,688\n",
            "_________________________________________________________________\n"
          ]
        }
      ]
    },
    {
      "cell_type": "code",
      "source": [
        "# Lets fit our model \n",
        "# Optimization \n",
        "from tensorflow.keras.optimizers import Adam\n",
        "\n",
        "opt = Adam(1e-4)"
      ],
      "metadata": {
        "id": "nIOQkrOy2dmd"
      },
      "execution_count": 19,
      "outputs": []
    },
    {
      "cell_type": "code",
      "source": [
        "model.compile(loss='mse',optimizer=opt)"
      ],
      "metadata": {
        "id": "Bix9456k2XIg"
      },
      "execution_count": 20,
      "outputs": []
    },
    {
      "cell_type": "code",
      "source": [
        "history = model.fit(train_images,train_targets,validation_data=(test_images,test_targets),batch_size=32,epochs=20,verbose=1)"
      ],
      "metadata": {
        "colab": {
          "base_uri": "https://localhost:8080/"
        },
        "id": "LgD7HjyK2iNc",
        "outputId": "680962f3-85d4-47f9-d282-889000d8df68"
      },
      "execution_count": 22,
      "outputs": [
        {
          "output_type": "stream",
          "name": "stdout",
          "text": [
            "Epoch 1/20\n",
            "23/23 [==============================] - 7s 309ms/step - loss: 0.0155 - val_loss: 0.0170\n",
            "Epoch 2/20\n",
            "23/23 [==============================] - 7s 309ms/step - loss: 0.0155 - val_loss: 0.0169\n",
            "Epoch 3/20\n",
            "23/23 [==============================] - 7s 309ms/step - loss: 0.0155 - val_loss: 0.0169\n",
            "Epoch 4/20\n",
            "23/23 [==============================] - 7s 311ms/step - loss: 0.0155 - val_loss: 0.0170\n",
            "Epoch 5/20\n",
            "23/23 [==============================] - 7s 309ms/step - loss: 0.0155 - val_loss: 0.0169\n",
            "Epoch 6/20\n",
            "23/23 [==============================] - 7s 310ms/step - loss: 0.0155 - val_loss: 0.0170\n",
            "Epoch 7/20\n",
            "23/23 [==============================] - 7s 310ms/step - loss: 0.0155 - val_loss: 0.0169\n",
            "Epoch 8/20\n",
            "23/23 [==============================] - 7s 311ms/step - loss: 0.0155 - val_loss: 0.0169\n",
            "Epoch 9/20\n",
            "23/23 [==============================] - 7s 310ms/step - loss: 0.0155 - val_loss: 0.0171\n",
            "Epoch 10/20\n",
            "23/23 [==============================] - 7s 310ms/step - loss: 0.0155 - val_loss: 0.0169\n",
            "Epoch 11/20\n",
            "23/23 [==============================] - 7s 310ms/step - loss: 0.0156 - val_loss: 0.0170\n",
            "Epoch 12/20\n",
            "23/23 [==============================] - 7s 311ms/step - loss: 0.0155 - val_loss: 0.0168\n",
            "Epoch 13/20\n",
            "23/23 [==============================] - 7s 310ms/step - loss: 0.0155 - val_loss: 0.0169\n",
            "Epoch 14/20\n",
            "23/23 [==============================] - 7s 309ms/step - loss: 0.0155 - val_loss: 0.0168\n",
            "Epoch 15/20\n",
            "23/23 [==============================] - 7s 311ms/step - loss: 0.0155 - val_loss: 0.0170\n",
            "Epoch 16/20\n",
            "23/23 [==============================] - 7s 309ms/step - loss: 0.0155 - val_loss: 0.0169\n",
            "Epoch 17/20\n",
            "23/23 [==============================] - 7s 309ms/step - loss: 0.0156 - val_loss: 0.0170\n",
            "Epoch 18/20\n",
            "23/23 [==============================] - 7s 309ms/step - loss: 0.0156 - val_loss: 0.0169\n",
            "Epoch 19/20\n",
            "23/23 [==============================] - 7s 311ms/step - loss: 0.0156 - val_loss: 0.0169\n",
            "Epoch 20/20\n",
            "23/23 [==============================] - 7s 310ms/step - loss: 0.0156 - val_loss: 0.0168\n"
          ]
        }
      ]
    },
    {
      "cell_type": "code",
      "source": [
        "# lets save model \n",
        "model.save('detect_Planes.h5')"
      ],
      "metadata": {
        "id": "IgVu9b-32kfQ"
      },
      "execution_count": 23,
      "outputs": []
    },
    {
      "cell_type": "code",
      "source": [
        "from tensorflow.keras.models import load_model"
      ],
      "metadata": {
        "id": "Oz-yDUYk2kh_"
      },
      "execution_count": 24,
      "outputs": []
    },
    {
      "cell_type": "code",
      "source": [
        "model=load_model('/content/detect_Planes.h5')"
      ],
      "metadata": {
        "id": "aIunXUHa2iQG"
      },
      "execution_count": 25,
      "outputs": []
    },
    {
      "cell_type": "code",
      "source": [
        "imagepaths='/content/drive/MyDrive/aroplane/images/image_0760.jpg'"
      ],
      "metadata": {
        "id": "726828gs2rxw"
      },
      "execution_count": 89,
      "outputs": []
    },
    {
      "cell_type": "code",
      "source": [
        "image = load_img(imagepath,target_size=(224,224))\n",
        "image = img_to_array(image) / 255.0\n",
        "image = np.expand_dims(image,axis=0)"
      ],
      "metadata": {
        "id": "M3jX6eMw2r0k"
      },
      "execution_count": 90,
      "outputs": []
    },
    {
      "cell_type": "code",
      "source": [
        "preds=model.predict(image)[0]\n",
        "(startX,startY,endX,endY)=preds"
      ],
      "metadata": {
        "id": "TlnNJhyD2u31"
      },
      "execution_count": 91,
      "outputs": []
    },
    {
      "cell_type": "code",
      "source": [
        "import imutils"
      ],
      "metadata": {
        "id": "hZTSSQmF2u6v"
      },
      "execution_count": 92,
      "outputs": []
    },
    {
      "cell_type": "code",
      "source": [
        "image=cv2.imread(imagepaths)\n",
        "image=imutils.resize(image,width=600)"
      ],
      "metadata": {
        "id": "eQx1NYUc2u9w"
      },
      "execution_count": 93,
      "outputs": []
    },
    {
      "cell_type": "code",
      "source": [
        "(h,w)=image.shape[:2]"
      ],
      "metadata": {
        "id": "faSoHaD_2r2_"
      },
      "execution_count": 94,
      "outputs": []
    },
    {
      "cell_type": "code",
      "source": [
        "startX=int(startX * w)\n",
        "startY=int(startY * h)\n",
        "\n",
        "endX=int(endX * w)\n",
        "endY=int(endY * h)"
      ],
      "metadata": {
        "id": "a-j-dfEm22XL"
      },
      "execution_count": 95,
      "outputs": []
    },
    {
      "cell_type": "code",
      "source": [
        "cv2.rectangle(image,(startX,startY),(endX,endY),(0,255,0),3)"
      ],
      "metadata": {
        "colab": {
          "base_uri": "https://localhost:8080/"
        },
        "id": "T9nOqL9N22aS",
        "outputId": "61cf9c0d-56e2-4aaf-f134-cd58b630608a"
      },
      "execution_count": 96,
      "outputs": [
        {
          "output_type": "execute_result",
          "data": {
            "text/plain": [
              "array([[[  0, 255,   0],\n",
              "        [  0, 255,   0],\n",
              "        [  0, 255,   0],\n",
              "        ...,\n",
              "        [162, 156, 113],\n",
              "        [162, 156, 113],\n",
              "        [162, 156, 113]],\n",
              "\n",
              "       [[  0, 255,   0],\n",
              "        [  0, 255,   0],\n",
              "        [  0, 255,   0],\n",
              "        ...,\n",
              "        [162, 156, 113],\n",
              "        [162, 156, 113],\n",
              "        [162, 156, 113]],\n",
              "\n",
              "       [[  0, 255,   0],\n",
              "        [  0, 255,   0],\n",
              "        [  0, 255,   0],\n",
              "        ...,\n",
              "        [162, 156, 113],\n",
              "        [162, 156, 113],\n",
              "        [162, 156, 113]],\n",
              "\n",
              "       ...,\n",
              "\n",
              "       [[255, 255, 255],\n",
              "        [255, 255, 255],\n",
              "        [255, 255, 255],\n",
              "        ...,\n",
              "        [ 88, 103,  89],\n",
              "        [ 87, 103,  89],\n",
              "        [ 86, 103,  89]],\n",
              "\n",
              "       [[255, 255, 255],\n",
              "        [255, 255, 255],\n",
              "        [255, 255, 255],\n",
              "        ...,\n",
              "        [ 87, 102,  88],\n",
              "        [ 86, 102,  88],\n",
              "        [ 86, 102,  88]],\n",
              "\n",
              "       [[255, 255, 255],\n",
              "        [255, 255, 255],\n",
              "        [255, 255, 255],\n",
              "        ...,\n",
              "        [ 87, 102,  88],\n",
              "        [ 86, 102,  88],\n",
              "        [ 85, 102,  88]]], dtype=uint8)"
            ]
          },
          "metadata": {},
          "execution_count": 96
        }
      ]
    },
    {
      "cell_type": "code",
      "source": [
        "from google.colab.patches import cv2_imshow"
      ],
      "metadata": {
        "id": "hhx8nJFt25Xc"
      },
      "execution_count": 97,
      "outputs": []
    },
    {
      "cell_type": "code",
      "source": [
        "import matplotlib.pyplot as plt\n",
        "plt.imshow(image)\n",
        "cv2.waitKey(0)"
      ],
      "metadata": {
        "colab": {
          "base_uri": "https://localhost:8080/",
          "height": 215
        },
        "id": "9IIELs0u25aX",
        "outputId": "716e2a56-1a3c-4ebb-986f-0756d279ae86"
      },
      "execution_count": 98,
      "outputs": [
        {
          "output_type": "execute_result",
          "data": {
            "text/plain": [
              "-1"
            ]
          },
          "metadata": {},
          "execution_count": 98
        },
        {
          "output_type": "display_data",
          "data": {
            "text/plain": [
              "<Figure size 432x288 with 1 Axes>"
            ],
            "image/png": "[encoded data removed]"
          },
          "metadata": {
            "needs_background": "light"
          }
        }
      ]
    },
    {
      "cell_type": "code",
      "source": [
        ""
      ],
      "metadata": {
        "id": "ygt9Sek925ki"
      },
      "execution_count": null,
      "outputs": []
    }
  ]
}
